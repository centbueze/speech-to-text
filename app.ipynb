{
 "cells": [
  {
   "cell_type": "code",
   "execution_count": 1,
   "metadata": {},
   "outputs": [
    {
     "name": "stdout",
     "output_type": "stream",
     "text": [
      "['Microsoft Sound Mapper - Input', 'Internal Microphone (Conexant I', 'Microsoft Sound Mapper - Output', 'Speakers (Conexant ISST Audio)', 'Primary Sound Capture Driver', 'Internal Microphone (Conexant ISST Audio)', 'Primary Sound Driver', 'Speakers (Conexant ISST Audio)', 'Speakers (Conexant ISST Audio)', 'Internal Microphone (Conexant ISST Audio)', 'Microphone Array (Conexant ISST Audio capture)', 'Stereo Mix (Conexant ISST Stereo Mix)', 'Output 1 (Conexant ISST Audio output)', 'Output 2 (Conexant ISST Audio output)', 'Input (Conexant ISST Audio output)']\n"
     ]
    }
   ],
   "source": [
    "import speech_recognition as sr\n",
    "print(sr.Microphone.list_microphone_names())\n"
   ]
  },
  {
   "cell_type": "code",
   "execution_count": 2,
   "metadata": {},
   "outputs": [
    {
     "name": "stdout",
     "output_type": "stream",
     "text": [
      "0: Microsoft Sound Mapper - Input\n",
      "1: Internal Microphone (Conexant I\n",
      "2: Microsoft Sound Mapper - Output\n",
      "3: Speakers (Conexant ISST Audio)\n",
      "4: Primary Sound Capture Driver\n",
      "5: Internal Microphone (Conexant ISST Audio)\n",
      "6: Primary Sound Driver\n",
      "7: Speakers (Conexant ISST Audio)\n",
      "8: Speakers (Conexant ISST Audio)\n",
      "9: Internal Microphone (Conexant ISST Audio)\n",
      "10: Microphone Array (Conexant ISST Audio capture)\n",
      "11: Stereo Mix (Conexant ISST Stereo Mix)\n",
      "12: Output 1 (Conexant ISST Audio output)\n",
      "13: Output 2 (Conexant ISST Audio output)\n",
      "14: Input (Conexant ISST Audio output)\n"
     ]
    }
   ],
   "source": [
    "for index, name in enumerate(sr.Microphone.list_microphone_names()):\n",
    "    print(f\"{index}: {name}\")"
   ]
  },
  {
   "cell_type": "code",
   "execution_count": 16,
   "metadata": {},
   "outputs": [
    {
     "name": "stdout",
     "output_type": "stream",
     "text": [
      "   0 Microsoft Sound Mapper - Input, MME (2 in, 0 out)\n",
      ">  1 Internal Microphone (Conexant I, MME (2 in, 0 out)\n",
      "   2 Microsoft Sound Mapper - Output, MME (0 in, 2 out)\n",
      "<  3 Speakers (Conexant ISST Audio), MME (0 in, 6 out)\n",
      "   4 Primary Sound Capture Driver, Windows DirectSound (2 in, 0 out)\n",
      "   5 Internal Microphone (Conexant ISST Audio), Windows DirectSound (2 in, 0 out)\n",
      "   6 Primary Sound Driver, Windows DirectSound (0 in, 2 out)\n",
      "   7 Speakers (Conexant ISST Audio), Windows DirectSound (0 in, 6 out)\n",
      "   8 Speakers (Conexant ISST Audio), Windows WASAPI (0 in, 2 out)\n",
      "   9 Internal Microphone (Conexant ISST Audio), Windows WASAPI (2 in, 0 out)\n",
      "  10 Microphone Array (Conexant ISST Audio capture), Windows WDM-KS (2 in, 0 out)\n",
      "  11 Stereo Mix (Conexant ISST Stereo Mix), Windows WDM-KS (2 in, 0 out)\n",
      "  12 Output 1 (Conexant ISST Audio output), Windows WDM-KS (0 in, 2 out)\n",
      "  13 Output 2 (Conexant ISST Audio output), Windows WDM-KS (0 in, 6 out)\n",
      "  14 Input (Conexant ISST Audio output), Windows WDM-KS (2 in, 0 out)\n"
     ]
    }
   ],
   "source": [
    "import sounddevice as sd\n",
    "print(sd.query_devices())\n"
   ]
  },
  {
   "cell_type": "code",
   "execution_count": 20,
   "metadata": {},
   "outputs": [
    {
     "name": "stdout",
     "output_type": "stream",
     "text": [
      "Recording... Speak now!\n",
      "Recording finished. Saving as test_audio.wav...\n",
      "Check 'test_audio.wav' and play it manually.\n"
     ]
    }
   ],
   "source": [
    "import sounddevice as sd\n",
    "import numpy as np\n",
    "import scipy.io.wavfile as wav\n",
    "\n",
    "mic_index = 5  # Your microphone index\n",
    "samplerate = 44100  \n",
    "duration = 5  \n",
    "\n",
    "print(\"Recording... Speak now!\")\n",
    "audio = sd.rec(int(samplerate * duration), samplerate=samplerate, channels=1, dtype=np.int16, device=mic_index)\n",
    "sd.wait()\n",
    "print(\"Recording finished. Saving as test_audio.wav...\")\n",
    "\n",
    "wav.write(\"test_audio.wav\", samplerate, audio)\n",
    "print(\"Check 'test_audio.wav' and play it manually.\")\n"
   ]
  },
  {
   "cell_type": "code",
   "execution_count": 5,
   "metadata": {},
   "outputs": [],
   "source": [
    "import pyttsx3 as tts\n",
    "\n",
    "speaker = tts.init()\n",
    "\n",
    "\n",
    "voices = speaker.getProperty('voices')       #getting details of current voice\n",
    "#engine.setProperty('voice', voices[0].id)  #changing index, changes voices. o for male\n",
    "speaker.setProperty('voice', voices[1].id)   #changing index, changes voices. 1 for female\n",
    "\n",
    "\n",
    "\n",
    "speaker.say(\"hello this is python\")\n",
    "speaker.runAndWait()"
   ]
  },
  {
   "cell_type": "code",
   "execution_count": null,
   "metadata": {},
   "outputs": [
    {
     "name": "stdout",
     "output_type": "stream",
     "text": [
      "Available Microphones:\n",
      "0: Microsoft Sound Mapper - Input\n",
      "1: Internal Microphone (Conexant I\n",
      "2: Microsoft Sound Mapper - Output\n",
      "3: Speakers (Conexant ISST Audio)\n",
      "4: Primary Sound Capture Driver\n",
      "5: Internal Microphone (Conexant ISST Audio)\n",
      "6: Primary Sound Driver\n",
      "7: Speakers (Conexant ISST Audio)\n",
      "8: Speakers (Conexant ISST Audio)\n",
      "9: Internal Microphone (Conexant ISST Audio)\n",
      "10: Microphone Array (Conexant ISST Audio capture)\n",
      "11: Stereo Mix (Conexant ISST Stereo Mix)\n",
      "12: Output 1 (Conexant ISST Audio output)\n",
      "13: Output 2 (Conexant ISST Audio output)\n",
      "14: Input (Conexant ISST Audio output)\n"
     ]
    }
   ],
   "source": [
    "import speech_recognition as sr\n",
    "\n",
    "print(\"Available Microphones:\")\n",
    "for index, name in enumerate(sr.Microphone.list_microphone_names()):\n",
    "    print(f\"{index}: {name}\")\n"
   ]
  },
  {
   "cell_type": "code",
   "execution_count": null,
   "metadata": {},
   "outputs": [],
   "source": []
  }
 ],
 "metadata": {
  "kernelspec": {
   "display_name": "Python 3",
   "language": "python",
   "name": "python3"
  },
  "language_info": {
   "codemirror_mode": {
    "name": "ipython",
    "version": 3
   },
   "file_extension": ".py",
   "mimetype": "text/x-python",
   "name": "python",
   "nbconvert_exporter": "python",
   "pygments_lexer": "ipython3",
   "version": "3.13.1"
  }
 },
 "nbformat": 4,
 "nbformat_minor": 2
}
